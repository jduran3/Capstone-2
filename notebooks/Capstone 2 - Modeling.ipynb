{
 "cells": [
  {
   "cell_type": "code",
   "execution_count": 155,
   "id": "d7a5ca7c",
   "metadata": {},
   "outputs": [],
   "source": [
    "import pandas as pd\n",
    "import numpy as np\n",
    "import matplotlib.pyplot as plt\n",
    "import seaborn as sns\n",
    "from sklearn.linear_model import LogisticRegression\n",
    "from sklearn.ensemble import RandomForestClassifier\n",
    "from sklearn.model_selection import RandomizedSearchCV\n",
    "from sklearn.metrics import classification_report, confusion_matrix, roc_curve, auc\n",
    "import xgboost as xgb\n",
    "import time"
   ]
  },
  {
   "cell_type": "markdown",
   "id": "9e7cc527",
   "metadata": {},
   "source": [
    "### Importing pre-processed data\n",
    "\n",
    "We'll start by importing our pre-processed data from the previous notebook."
   ]
  },
  {
   "cell_type": "code",
   "execution_count": 156,
   "id": "10df604d",
   "metadata": {},
   "outputs": [],
   "source": [
    "X_train = pd.read_csv('..\\data\\X_train.csv').values\n",
    "X_test = pd.read_csv('..\\data\\X_test.csv').values\n",
    "y_train = pd.read_csv('..\\data\\y_train.csv').values\n",
    "y_test = pd.read_csv('..\\data\\y_test.csv').values"
   ]
  },
  {
   "cell_type": "code",
   "execution_count": 157,
   "id": "0295c693",
   "metadata": {},
   "outputs": [
    {
     "name": "stdout",
     "output_type": "stream",
     "text": [
      "X_train shape: (34189, 53) \n",
      "X_test shape: (14653, 53)\n",
      "\n",
      "y_train shape: (34189, 1) \n",
      "y_test shape: (14653, 1)\n"
     ]
    }
   ],
   "source": [
    "print('X_train shape:', X_train.shape, '\\nX_test shape:', X_test.shape)\n",
    "print('\\ny_train shape:', y_train.shape, '\\ny_test shape:', y_test.shape)"
   ]
  },
  {
   "cell_type": "code",
   "execution_count": 158,
   "id": "7dfb71a2",
   "metadata": {},
   "outputs": [
    {
     "name": "stdout",
     "output_type": "stream",
     "text": [
      "y_train shape: (34189,) \n",
      "y_test shape: (14653,)\n"
     ]
    }
   ],
   "source": [
    "# Reshaping y sets for models, they need to be 1d arrays\n",
    "y_train = y_train.reshape(-1)\n",
    "y_test = y_test.reshape(-1)\n",
    "print('y_train shape:', y_train.shape, '\\ny_test shape:', y_test.shape)"
   ]
  },
  {
   "cell_type": "markdown",
   "id": "c2cb1b35",
   "metadata": {},
   "source": [
    "####  We'll build 3 different models and tune hyperparameters using Random Search and cross validation. We'll use AUC as metric to compare performance between the models.\n",
    "\n",
    "- Logistic Regression\n",
    "- Random Forest\n",
    "- XGB"
   ]
  },
  {
   "cell_type": "markdown",
   "id": "c0fa8eac",
   "metadata": {},
   "source": [
    "## Logistic Regression"
   ]
  },
  {
   "cell_type": "code",
   "execution_count": 159,
   "id": "72fd011e",
   "metadata": {},
   "outputs": [],
   "source": [
    "param_lr = {'C':[.001, .01, .1, 1, 10, 100],\n",
    "            'solver':['lbfgs','saga'],\n",
    "           'max_iter':[1200]}"
   ]
  },
  {
   "cell_type": "code",
   "execution_count": 160,
   "id": "97c5f5b4",
   "metadata": {},
   "outputs": [],
   "source": [
    "lr = LogisticRegression()"
   ]
  },
  {
   "cell_type": "code",
   "execution_count": 161,
   "id": "b687f938",
   "metadata": {},
   "outputs": [],
   "source": [
    "lr_clf = RandomizedSearchCV(lr, param_distributions=param_lr, cv=5, scoring='roc_auc', n_jobs=-1, random_state=42)"
   ]
  },
  {
   "cell_type": "code",
   "execution_count": 162,
   "id": "aa93cb74",
   "metadata": {},
   "outputs": [
    {
     "name": "stdout",
     "output_type": "stream",
     "text": [
      "Training time: 70.74672937393188\n"
     ]
    }
   ],
   "source": [
    "start = time.time()\n",
    "lr_model = lr_clf.fit(X_train, y_train)\n",
    "end = time.time()\n",
    "print('Training time:', round(end - start,), 'seconds')"
   ]
  },
  {
   "cell_type": "code",
   "execution_count": 163,
   "id": "d4213b42",
   "metadata": {},
   "outputs": [
    {
     "name": "stdout",
     "output_type": "stream",
     "text": [
      "{'solver': 'lbfgs', 'max_iter': 1200, 'C': 100}\n",
      "0.9077122983178102\n"
     ]
    }
   ],
   "source": [
    "print(lr_model.best_params_)\n",
    "print(lr_model.best_score_)"
   ]
  },
  {
   "cell_type": "markdown",
   "id": "fad8b0a9",
   "metadata": {},
   "source": [
    "Now that we've made a first pass on hyperparameters, we can try to further tune around those hyperparameters and see if we can improve the model's preformance."
   ]
  },
  {
   "cell_type": "code",
   "execution_count": 164,
   "id": "b0a6eec6",
   "metadata": {},
   "outputs": [],
   "source": [
    "param_lr_2 = {'C':[50, 100, 200],\n",
    "            'solver':['lbfgs','saga'],\n",
    "           'max_iter':[1200]}"
   ]
  },
  {
   "cell_type": "code",
   "execution_count": 165,
   "id": "ea328a6f",
   "metadata": {},
   "outputs": [],
   "source": [
    "lr_clf = RandomizedSearchCV(lr, param_distributions=param_lr_2, cv=5, scoring='roc_auc', n_jobs=-1, random_state=42)"
   ]
  },
  {
   "cell_type": "code",
   "execution_count": 166,
   "id": "926a1ba9",
   "metadata": {},
   "outputs": [
    {
     "name": "stderr",
     "output_type": "stream",
     "text": [
      "C:\\Users\\jodur\\AppData\\Local\\Packages\\PythonSoftwareFoundation.Python.3.9_qbz5n2kfra8p0\\LocalCache\\local-packages\\Python39\\site-packages\\sklearn\\model_selection\\_search.py:292: UserWarning: The total space of parameters 6 is smaller than n_iter=10. Running 6 iterations. For exhaustive searches, use GridSearchCV.\n",
      "  warnings.warn(\n"
     ]
    },
    {
     "name": "stdout",
     "output_type": "stream",
     "text": [
      "Training time: 99.21132755279541\n"
     ]
    }
   ],
   "source": [
    "start = time.time()\n",
    "lr_model_2 = lr_clf.fit(X_train, y_train)\n",
    "end = time.time()\n",
    "print('Training time:', round(end - start,), 'seconds')"
   ]
  },
  {
   "cell_type": "code",
   "execution_count": 167,
   "id": "31dfdd21",
   "metadata": {},
   "outputs": [
    {
     "name": "stdout",
     "output_type": "stream",
     "text": [
      "{'solver': 'lbfgs', 'max_iter': 1200, 'C': 200}\n",
      "0.9077153771261912\n"
     ]
    }
   ],
   "source": [
    "print(lr_model_2.best_params_)\n",
    "print(lr_model_2.best_score_)"
   ]
  },
  {
   "cell_type": "markdown",
   "id": "3fe31a3b",
   "metadata": {},
   "source": [
    "We see it only raised the C value, but the performance was the same."
   ]
  },
  {
   "cell_type": "markdown",
   "id": "3abd7269",
   "metadata": {},
   "source": [
    "#### LogReg - Tuned model"
   ]
  },
  {
   "cell_type": "code",
   "execution_count": 168,
   "id": "1ce0442f",
   "metadata": {},
   "outputs": [
    {
     "data": {
      "text/plain": [
       "LogisticRegression(C=100, max_iter=1000, random_state=42)"
      ]
     },
     "execution_count": 168,
     "metadata": {},
     "output_type": "execute_result"
    }
   ],
   "source": [
    "lr_tuned = LogisticRegression(solver='lbfgs', max_iter=1000, C=100, random_state=42)\n",
    "lr_tuned.fit(X_train, y_train)"
   ]
  },
  {
   "cell_type": "code",
   "execution_count": 169,
   "id": "5c7f01e6",
   "metadata": {},
   "outputs": [],
   "source": [
    "y_pred_lr = lr_tuned.predict(X_test)\n",
    "y_pred_proba_lr = lr_tuned.predict_proba(X_test)[:,1]"
   ]
  },
  {
   "cell_type": "markdown",
   "id": "9c9cccf4",
   "metadata": {},
   "source": [
    "#### LogReg - Metrics"
   ]
  },
  {
   "cell_type": "code",
   "execution_count": 170,
   "id": "ba03a97d",
   "metadata": {
    "scrolled": false
   },
   "outputs": [
    {
     "data": {
      "image/png": "[encoded data removed]",
      "text/plain": [
       "<Figure size 432x288 with 2 Axes>"
      ]
     },
     "metadata": {
      "needs_background": "light"
     },
     "output_type": "display_data"
    }
   ],
   "source": [
    "sns.heatmap(confusion_matrix(y_test, y_pred_lr), annot=True, fmt='.0f');"
   ]
  },
  {
   "cell_type": "code",
   "execution_count": 171,
   "id": "dc5ebbb8",
   "metadata": {},
   "outputs": [
    {
     "name": "stdout",
     "output_type": "stream",
     "text": [
      "              precision    recall  f1-score   support\n",
      "\n",
      "           0       0.88      0.94      0.91     11109\n",
      "           1       0.75      0.59      0.66      3544\n",
      "\n",
      "    accuracy                           0.85     14653\n",
      "   macro avg       0.81      0.76      0.78     14653\n",
      "weighted avg       0.85      0.85      0.85     14653\n",
      "\n"
     ]
    }
   ],
   "source": [
    "print(classification_report(y_test, y_pred_lr))"
   ]
  },
  {
   "cell_type": "code",
   "execution_count": 172,
   "id": "b00f83ec",
   "metadata": {},
   "outputs": [],
   "source": [
    "fpr_lr, tpr_lr, thresholds_lr = roc_curve(y_test, y_pred_proba_lr)"
   ]
  },
  {
   "cell_type": "code",
   "execution_count": 173,
   "id": "2bc7d65b",
   "metadata": {},
   "outputs": [
    {
     "data": {
      "text/plain": [
       "0.9065008045659602"
      ]
     },
     "execution_count": 173,
     "metadata": {},
     "output_type": "execute_result"
    }
   ],
   "source": [
    "auc_lr = auc(fpr_lr, tpr_lr)\n",
    "auc_lr"
   ]
  },
  {
   "cell_type": "code",
   "execution_count": 174,
   "id": "ccc4ed0b",
   "metadata": {},
   "outputs": [
    {
     "data": {
      "image/png": "[encoded data removed]",
      "text/plain": [
       "<Figure size 432x288 with 1 Axes>"
      ]
     },
     "metadata": {
      "needs_background": "light"
     },
     "output_type": "display_data"
    }
   ],
   "source": [
    "plt.figure()\n",
    "plt.plot(fpr_lr, tpr_lr, color=\"darkorange\",\n",
    "    label=\"AUC (area = %0.2f)\" % auc_lr)\n",
    "plt.plot([0, 1], [0, 1], color=\"navy\", linestyle=\"--\")\n",
    "plt.xlim([0.0, 1.0])\n",
    "plt.ylim([0.0, 1.0])\n",
    "plt.xlabel(\"False Positive Rate\")\n",
    "plt.ylabel(\"True Positive Rate\")\n",
    "plt.legend(loc=\"lower right\")\n",
    "plt.show()"
   ]
  },
  {
   "cell_type": "markdown",
   "id": "f05564ba",
   "metadata": {},
   "source": [
    "### Bayes Optimizer"
   ]
  },
  {
   "cell_type": "code",
   "execution_count": 175,
   "id": "3576faf0",
   "metadata": {},
   "outputs": [
    {
     "data": {
      "text/plain": [
       "'from bayes_opt import BayesianOptimization\\nfrom sklearn.model_selection import cross_val_score, cross_validate'"
      ]
     },
     "execution_count": 175,
     "metadata": {},
     "output_type": "execute_result"
    }
   ],
   "source": [
    "'''from bayes_opt import BayesianOptimization\n",
    "from sklearn.model_selection import cross_val_score, cross_validate'''"
   ]
  },
  {
   "cell_type": "code",
   "execution_count": 176,
   "id": "09f99fd9",
   "metadata": {},
   "outputs": [
    {
     "data": {
      "text/plain": [
       "\"def lr_eval(C, solver, max_iter):\\n    params = {\\n        'C': C,\\n        'solver': solver,\\n        'max_iter': max_iter\\n    }\\n    \\n    lr = LogisticRegression()\\n    cv_results = cross_validate(lr, X_train, y_train, fit_params=params, cv=5, scoring='roc_auc')\""
      ]
     },
     "execution_count": 176,
     "metadata": {},
     "output_type": "execute_result"
    }
   ],
   "source": [
    "'''def lr_eval(C, solver, max_iter):\n",
    "    params = {\n",
    "        'C': C,\n",
    "        'solver': solver,\n",
    "        'max_iter': max_iter\n",
    "    }\n",
    "    \n",
    "    lr = LogisticRegression()\n",
    "    cv_results = cross_validate(lr, X_train, y_train, fit_params=params, cv=5, scoring='roc_auc')'''"
   ]
  },
  {
   "cell_type": "code",
   "execution_count": 177,
   "id": "2eb7848c",
   "metadata": {},
   "outputs": [
    {
     "data": {
      "text/plain": [
       "\"params = {'C': [.01, .1, 1, 10],\\n        'solver': ['lbfgs','saga']\\n    }\\n\\nlr = LogisticRegression()\\ncv_results = cross_validate(lr, X_train, y_train, fit_params=params, cv=5, scoring='roc_auc', return_train_score=True)\""
      ]
     },
     "execution_count": 177,
     "metadata": {},
     "output_type": "execute_result"
    }
   ],
   "source": [
    "'''params = {'C': [.01, .1, 1, 10],\n",
    "        'solver': ['lbfgs','saga']\n",
    "    }\n",
    "\n",
    "lr = LogisticRegression()\n",
    "cv_results = cross_validate(lr, X_train, y_train, fit_params=params, cv=5, scoring='roc_auc', return_train_score=True)'''"
   ]
  },
  {
   "cell_type": "markdown",
   "id": "98e9defc",
   "metadata": {},
   "source": [
    "## Random Forest"
   ]
  },
  {
   "cell_type": "code",
   "execution_count": 178,
   "id": "0f0e40c3",
   "metadata": {},
   "outputs": [],
   "source": [
    "param_rf = {'n_estimators':[100,300,500,700],\n",
    "            'criterion':['gini','entropy'],\n",
    "            'max_depth':[10,20,30],              \n",
    "            'min_samples_split': [2, 4, 6],      #default = 2\n",
    "            'min_samples_leaf': [1, 2, 3] }      #default = 1"
   ]
  },
  {
   "cell_type": "code",
   "execution_count": 179,
   "id": "df8292d6",
   "metadata": {},
   "outputs": [],
   "source": [
    "rf = RandomForestClassifier()\n",
    "rf_clf = RandomizedSearchCV(rf, param_distributions = param_rf, cv = 5, scoring = 'roc_auc', n_jobs = -1, \\\n",
    "                            verbose=10, random_state=42)"
   ]
  },
  {
   "cell_type": "code",
   "execution_count": 180,
   "id": "944d43ff",
   "metadata": {
    "scrolled": true
   },
   "outputs": [
    {
     "name": "stdout",
     "output_type": "stream",
     "text": [
      "Fitting 5 folds for each of 10 candidates, totalling 50 fits\n",
      "Training time: 114.8535270690918\n"
     ]
    }
   ],
   "source": [
    "start = time.time()\n",
    "rf_model = rf_clf.fit(X_train, y_train)\n",
    "end = time.time()\n",
    "print('Training time:', round(end - start,), 'seconds')"
   ]
  },
  {
   "cell_type": "code",
   "execution_count": 181,
   "id": "ac7723e6",
   "metadata": {},
   "outputs": [
    {
     "name": "stdout",
     "output_type": "stream",
     "text": [
      "{'n_estimators': 300, 'min_samples_split': 6, 'min_samples_leaf': 3, 'max_depth': 20, 'criterion': 'entropy'}\n",
      "0.9166475311328174\n"
     ]
    }
   ],
   "source": [
    "print(rf_model.best_params_)\n",
    "print(rf_model.best_score_)"
   ]
  },
  {
   "cell_type": "markdown",
   "id": "091d73df",
   "metadata": {},
   "source": [
    "Running a second round of tuning"
   ]
  },
  {
   "cell_type": "code",
   "execution_count": 212,
   "id": "07b11d26",
   "metadata": {},
   "outputs": [],
   "source": [
    "param_rf_2 = {'n_estimators':[300, 400, 500],\n",
    "            'criterion':['gini','entropy'],\n",
    "            'max_depth':[15, 20, 25, 30],              \n",
    "            'min_samples_split': [5, 6, 7],      #default = 2\n",
    "            'min_samples_leaf': [3, 4 ,5] }      #default = 1"
   ]
  },
  {
   "cell_type": "code",
   "execution_count": 213,
   "id": "969d2786",
   "metadata": {},
   "outputs": [],
   "source": [
    "rf_clf_2 = RandomizedSearchCV(rf, param_distributions = param_rf_2, cv = 5, scoring = 'roc_auc', n_jobs = -1, \\\n",
    "                              verbose=10, random_state=42)"
   ]
  },
  {
   "cell_type": "code",
   "execution_count": 214,
   "id": "b59e9d79",
   "metadata": {},
   "outputs": [
    {
     "name": "stdout",
     "output_type": "stream",
     "text": [
      "Fitting 5 folds for each of 10 candidates, totalling 50 fits\n",
      "Training time: 91.39031505584717\n"
     ]
    }
   ],
   "source": [
    "start = time.time()\n",
    "rf_model_2 = rf_clf_2.fit(X_train, y_train)\n",
    "end = time.time()\n",
    "print('Training time:', round(end - start,), 'seconds')"
   ]
  },
  {
   "cell_type": "code",
   "execution_count": 215,
   "id": "424247cc",
   "metadata": {},
   "outputs": [
    {
     "name": "stdout",
     "output_type": "stream",
     "text": [
      "{'n_estimators': 400, 'min_samples_split': 6, 'min_samples_leaf': 3, 'max_depth': 20, 'criterion': 'entropy'}\n",
      "0.91674582817644\n"
     ]
    }
   ],
   "source": [
    "print(rf_model_2.best_params_)\n",
    "print(rf_model_2.best_score_)"
   ]
  },
  {
   "cell_type": "markdown",
   "id": "5a6d6654",
   "metadata": {},
   "source": [
    "#### RF - Tuned model"
   ]
  },
  {
   "cell_type": "code",
   "execution_count": 221,
   "id": "9dd4edce",
   "metadata": {},
   "outputs": [
    {
     "data": {
      "text/plain": [
       "RandomForestClassifier(criterion='entropy', max_depth=20, min_samples_leaf=3,\n",
       "                       min_samples_split=6, n_estimators=400, random_state=42)"
      ]
     },
     "execution_count": 221,
     "metadata": {},
     "output_type": "execute_result"
    }
   ],
   "source": [
    "rf_tuned = RandomForestClassifier(n_estimators=400, criterion='entropy', min_samples_split=6,\\\n",
    "                                  min_samples_leaf=3, max_depth=20, random_state=42)\n",
    "rf_tuned.fit(X_train, y_train)"
   ]
  },
  {
   "cell_type": "code",
   "execution_count": 222,
   "id": "3dfe7fd2",
   "metadata": {},
   "outputs": [],
   "source": [
    "y_pred_rf = rf_tuned.predict(X_test)\n",
    "y_pred_proba_rf = rf_tuned.predict_proba(X_test)[:,1]"
   ]
  },
  {
   "cell_type": "markdown",
   "id": "51fc142b",
   "metadata": {},
   "source": [
    "#### RF - Features importances"
   ]
  },
  {
   "cell_type": "code",
   "execution_count": 223,
   "id": "613fd87e",
   "metadata": {},
   "outputs": [],
   "source": [
    "# Reading X_train again, but this time as a dataframe to get columns\n",
    "X_cols = pd.read_csv('..\\data\\X_train.csv')"
   ]
  },
  {
   "cell_type": "code",
   "execution_count": 224,
   "id": "71248160",
   "metadata": {},
   "outputs": [
    {
     "data": {
      "image/png": "[encoded data removed]",
      "text/plain": [
       "<Figure size 1440x1008 with 1 Axes>"
      ]
     },
     "metadata": {
      "needs_background": "light"
     },
     "output_type": "display_data"
    }
   ],
   "source": [
    "plt.figure(figsize=(20,14))\n",
    "sorted_idx = rf_tuned.feature_importances_.argsort()\n",
    "plt.barh(X_cols.columns[sorted_idx], rf_tuned.feature_importances_[sorted_idx])\n",
    "plt.xlabel('Random Forest feature importance');"
   ]
  },
  {
   "cell_type": "markdown",
   "id": "9f5bb815",
   "metadata": {},
   "source": [
    "#### RF - Metrics"
   ]
  },
  {
   "cell_type": "code",
   "execution_count": 225,
   "id": "d647def8",
   "metadata": {
    "scrolled": true
   },
   "outputs": [
    {
     "data": {
      "image/png": "[encoded data removed]",
      "text/plain": [
       "<Figure size 432x288 with 2 Axes>"
      ]
     },
     "metadata": {
      "needs_background": "light"
     },
     "output_type": "display_data"
    }
   ],
   "source": [
    "sns.heatmap(confusion_matrix(y_test, y_pred_rf), annot=True, fmt='.0f');"
   ]
  },
  {
   "cell_type": "code",
   "execution_count": 226,
   "id": "6fab1f84",
   "metadata": {},
   "outputs": [
    {
     "name": "stdout",
     "output_type": "stream",
     "text": [
      "              precision    recall  f1-score   support\n",
      "\n",
      "           0       0.88      0.95      0.91     11109\n",
      "           1       0.79      0.58      0.67      3544\n",
      "\n",
      "    accuracy                           0.86     14653\n",
      "   macro avg       0.83      0.76      0.79     14653\n",
      "weighted avg       0.86      0.86      0.85     14653\n",
      "\n"
     ]
    }
   ],
   "source": [
    "print(classification_report(y_test, y_pred_rf))"
   ]
  },
  {
   "cell_type": "code",
   "execution_count": 227,
   "id": "f935b91f",
   "metadata": {},
   "outputs": [],
   "source": [
    "fpr_rf, tpr_rf, thresholds_rf = roc_curve(y_test, y_pred_proba_rf)"
   ]
  },
  {
   "cell_type": "code",
   "execution_count": 228,
   "id": "0574ab31",
   "metadata": {},
   "outputs": [
    {
     "data": {
      "text/plain": [
       "0.913677230163573"
      ]
     },
     "execution_count": 228,
     "metadata": {},
     "output_type": "execute_result"
    }
   ],
   "source": [
    "auc_rf = auc(fpr_rf, tpr_rf)\n",
    "auc_rf"
   ]
  },
  {
   "cell_type": "code",
   "execution_count": 229,
   "id": "65d141e5",
   "metadata": {},
   "outputs": [
    {
     "data": {
      "image/png": "[encoded data removed]",
      "text/plain": [
       "<Figure size 432x288 with 1 Axes>"
      ]
     },
     "metadata": {
      "needs_background": "light"
     },
     "output_type": "display_data"
    }
   ],
   "source": [
    "plt.figure()\n",
    "plt.plot(fpr_rf, tpr_rf, color=\"darkorange\",\n",
    "    label=\"RF AUC = %0.2f\" % auc_rf)\n",
    "plt.plot([0, 1], [0, 1], color=\"navy\", linestyle=\"--\")\n",
    "plt.xlim([0.0, 1.0])\n",
    "plt.ylim([0.0, 1.0])\n",
    "plt.xlabel(\"False Positive Rate\")\n",
    "plt.ylabel(\"True Positive Rate\")\n",
    "plt.legend(loc=\"lower right\")\n",
    "plt.show()"
   ]
  },
  {
   "cell_type": "markdown",
   "id": "b5abb5b4",
   "metadata": {},
   "source": [
    "## XGBoost"
   ]
  },
  {
   "cell_type": "code",
   "execution_count": 195,
   "id": "ed467de8",
   "metadata": {},
   "outputs": [],
   "source": [
    "dmatrix = xgb.DMatrix(data=X_train, label=y_train)"
   ]
  },
  {
   "cell_type": "code",
   "execution_count": 196,
   "id": "c0d9cf6a",
   "metadata": {},
   "outputs": [],
   "source": [
    "params_xg = {'objective':'binary:logistic','max_depth':6, 'learning_rate':0.3, 'random_state': 42}"
   ]
  },
  {
   "cell_type": "code",
   "execution_count": 197,
   "id": "379109e8",
   "metadata": {},
   "outputs": [
    {
     "name": "stdout",
     "output_type": "stream",
     "text": [
      "Training time: 22.904305696487427\n"
     ]
    }
   ],
   "source": [
    "start = time.time()\n",
    "cv_results = xgb.cv(dtrain=dmatrix, params=params_xg, nfold=5,\\\n",
    "                    metrics = 'auc', num_boost_round=200, as_pandas=True)\n",
    "end = time.time()\n",
    "print('Training time:', round(end - start,), 'seconds')"
   ]
  },
  {
   "cell_type": "code",
   "execution_count": 198,
   "id": "83a78f67",
   "metadata": {},
   "outputs": [
    {
     "name": "stdout",
     "output_type": "stream",
     "text": [
      "     train-auc-mean  train-auc-std  test-auc-mean  test-auc-std\n",
      "190        0.958968       0.000557       0.924690      0.003236\n",
      "191        0.959083       0.000555       0.924646      0.003226\n",
      "192        0.959164       0.000607       0.924627      0.003217\n",
      "193        0.959239       0.000606       0.924601      0.003205\n",
      "194        0.959327       0.000587       0.924570      0.003173\n",
      "195        0.959370       0.000563       0.924550      0.003157\n",
      "196        0.959406       0.000557       0.924529      0.003140\n",
      "197        0.959460       0.000536       0.924512      0.003127\n",
      "198        0.959540       0.000545       0.924487      0.003173\n",
      "199        0.959623       0.000524       0.924447      0.003142\n"
     ]
    }
   ],
   "source": [
    "print(cv_results.tail(10))"
   ]
  },
  {
   "cell_type": "code",
   "execution_count": 199,
   "id": "615d38e6",
   "metadata": {},
   "outputs": [
    {
     "data": {
      "text/html": [
       "<div>\n",
       "<style scoped>\n",
       "    .dataframe tbody tr th:only-of-type {\n",
       "        vertical-align: middle;\n",
       "    }\n",
       "\n",
       "    .dataframe tbody tr th {\n",
       "        vertical-align: top;\n",
       "    }\n",
       "\n",
       "    .dataframe thead th {\n",
       "        text-align: right;\n",
       "    }\n",
       "</style>\n",
       "<table border=\"1\" class=\"dataframe\">\n",
       "  <thead>\n",
       "    <tr style=\"text-align: right;\">\n",
       "      <th></th>\n",
       "      <th>Iterations</th>\n",
       "      <th>Train AUC</th>\n",
       "      <th>Test AUC</th>\n",
       "    </tr>\n",
       "  </thead>\n",
       "  <tbody>\n",
       "    <tr>\n",
       "      <th>0</th>\n",
       "      <td>1</td>\n",
       "      <td>0.895727</td>\n",
       "      <td>0.892211</td>\n",
       "    </tr>\n",
       "    <tr>\n",
       "      <th>1</th>\n",
       "      <td>2</td>\n",
       "      <td>0.905169</td>\n",
       "      <td>0.901717</td>\n",
       "    </tr>\n",
       "    <tr>\n",
       "      <th>2</th>\n",
       "      <td>3</td>\n",
       "      <td>0.908198</td>\n",
       "      <td>0.904364</td>\n",
       "    </tr>\n",
       "    <tr>\n",
       "      <th>3</th>\n",
       "      <td>4</td>\n",
       "      <td>0.910200</td>\n",
       "      <td>0.905816</td>\n",
       "    </tr>\n",
       "    <tr>\n",
       "      <th>4</th>\n",
       "      <td>5</td>\n",
       "      <td>0.913204</td>\n",
       "      <td>0.907940</td>\n",
       "    </tr>\n",
       "  </tbody>\n",
       "</table>\n",
       "</div>"
      ],
      "text/plain": [
       "   Iterations  Train AUC  Test AUC\n",
       "0           1   0.895727  0.892211\n",
       "1           2   0.905169  0.901717\n",
       "2           3   0.908198  0.904364\n",
       "3           4   0.910200  0.905816\n",
       "4           5   0.913204  0.907940"
      ]
     },
     "execution_count": 199,
     "metadata": {},
     "output_type": "execute_result"
    }
   ],
   "source": [
    "test = pd.DataFrame({'Iterations':range(1,201),'Train AUC':cv_results['train-auc-mean'], \\\n",
    "                    'Test AUC':cv_results['test-auc-mean']})\n",
    "test.head()"
   ]
  },
  {
   "cell_type": "code",
   "execution_count": 200,
   "id": "4703c8a5",
   "metadata": {},
   "outputs": [
    {
     "data": {
      "image/png": "[encoded data removed]",
      "text/plain": [
       "<Figure size 720x360 with 1 Axes>"
      ]
     },
     "metadata": {
      "needs_background": "light"
     },
     "output_type": "display_data"
    }
   ],
   "source": [
    "plt.figure(figsize=(10,5))\n",
    "plt.scatter(test['Iterations'], test['Train AUC'], marker='.', label='Train')\n",
    "plt.scatter(test['Iterations'], test['Test AUC'], marker='.', label='Test')\n",
    "plt.legend()\n",
    "plt.xlabel('Number of iterations')\n",
    "plt.ylabel('AUC Score');"
   ]
  },
  {
   "cell_type": "markdown",
   "id": "962a4d9e",
   "metadata": {},
   "source": [
    "#### XGBoost - Tuned model"
   ]
  },
  {
   "cell_type": "code",
   "execution_count": 201,
   "id": "cafda43a",
   "metadata": {},
   "outputs": [],
   "source": [
    "xgb_cl = xgb.XGBClassifier(objective='binary:logistic', n_estimators=70, seed=123, eval_metric='auc',\\\n",
    "                           max_depth=6, random_state=42)"
   ]
  },
  {
   "cell_type": "code",
   "execution_count": 202,
   "id": "af062b09",
   "metadata": {
    "scrolled": true
   },
   "outputs": [
    {
     "data": {
      "text/plain": [
       "XGBClassifier(base_score=0.5, booster='gbtree', callbacks=None,\n",
       "              colsample_bylevel=1, colsample_bynode=1, colsample_bytree=1,\n",
       "              early_stopping_rounds=None, enable_categorical=False,\n",
       "              eval_metric='auc', gamma=0, gpu_id=-1, grow_policy='depthwise',\n",
       "              importance_type=None, interaction_constraints='',\n",
       "              learning_rate=0.300000012, max_bin=256, max_cat_to_onehot=4,\n",
       "              max_delta_step=0, max_depth=6, max_leaves=0, min_child_weight=1,\n",
       "              missing=nan, monotone_constraints='()', n_estimators=70, n_jobs=0,\n",
       "              num_parallel_tree=1, predictor='auto', random_state=42,\n",
       "              reg_alpha=0, reg_lambda=1, ...)"
      ]
     },
     "execution_count": 202,
     "metadata": {},
     "output_type": "execute_result"
    }
   ],
   "source": [
    "xgb_cl.fit(X_train, y_train)"
   ]
  },
  {
   "cell_type": "code",
   "execution_count": 203,
   "id": "b1bc91ac",
   "metadata": {},
   "outputs": [],
   "source": [
    "y_pred_xg = xgb_cl.predict(X_test)\n",
    "y_pred_proba_xg = xgb_cl.predict_proba(X_test)[:,1]"
   ]
  },
  {
   "cell_type": "code",
   "execution_count": 204,
   "id": "c3e30879",
   "metadata": {},
   "outputs": [
    {
     "data": {
      "image/png": "[encoded data removed]",
      "text/plain": [
       "<Figure size 432x288 with 2 Axes>"
      ]
     },
     "metadata": {
      "needs_background": "light"
     },
     "output_type": "display_data"
    }
   ],
   "source": [
    "sns.heatmap(confusion_matrix(y_test, y_pred_xg), annot=True, fmt='.0f');"
   ]
  },
  {
   "cell_type": "code",
   "execution_count": 205,
   "id": "a167bc1e",
   "metadata": {},
   "outputs": [
    {
     "name": "stdout",
     "output_type": "stream",
     "text": [
      "              precision    recall  f1-score   support\n",
      "\n",
      "           0       0.89      0.94      0.92     11109\n",
      "           1       0.78      0.64      0.70      3544\n",
      "\n",
      "    accuracy                           0.87     14653\n",
      "   macro avg       0.84      0.79      0.81     14653\n",
      "weighted avg       0.86      0.87      0.86     14653\n",
      "\n"
     ]
    }
   ],
   "source": [
    "print(classification_report(y_test, y_pred_xg))"
   ]
  },
  {
   "cell_type": "code",
   "execution_count": 206,
   "id": "4172b3cb",
   "metadata": {},
   "outputs": [
    {
     "data": {
      "text/plain": [
       "0.9240924680881241"
      ]
     },
     "execution_count": 206,
     "metadata": {},
     "output_type": "execute_result"
    }
   ],
   "source": [
    "fpr_xg, tpr_xg, thresholds_xg = roc_curve(y_test, y_pred_proba_xg)\n",
    "auc_xg = auc(fpr_xg, tpr_xg)\n",
    "auc_xg"
   ]
  },
  {
   "cell_type": "code",
   "execution_count": 207,
   "id": "0d3213b1",
   "metadata": {},
   "outputs": [
    {
     "data": {
      "image/png": "[encoded data removed]",
      "text/plain": [
       "<Figure size 432x288 with 1 Axes>"
      ]
     },
     "metadata": {
      "needs_background": "light"
     },
     "output_type": "display_data"
    }
   ],
   "source": [
    "plt.figure()\n",
    "plt.plot(fpr_xg, tpr_xg, color=\"darkorange\",\n",
    "    label=\"XGBoost AUC = %0.2f\" % auc_xg)\n",
    "plt.plot([0, 1], [0, 1], color=\"navy\", linestyle=\"--\")\n",
    "plt.xlim([0.0, 1.0])\n",
    "plt.ylim([0.0, 1.0])\n",
    "plt.xlabel(\"False Positive Rate\")\n",
    "plt.ylabel(\"True Positive Rate\")\n",
    "plt.legend(loc=\"lower right\")\n",
    "plt.show()"
   ]
  },
  {
   "cell_type": "code",
   "execution_count": null,
   "id": "2ef51f2f",
   "metadata": {},
   "outputs": [],
   "source": []
  },
  {
   "cell_type": "code",
   "execution_count": null,
   "id": "bde5372b",
   "metadata": {},
   "outputs": [],
   "source": []
  },
  {
   "cell_type": "code",
   "execution_count": 208,
   "id": "b9445f10",
   "metadata": {},
   "outputs": [
    {
     "data": {
      "image/png": "[encoded data removed]",
      "text/plain": [
       "<Figure size 432x288 with 1 Axes>"
      ]
     },
     "metadata": {
      "needs_background": "light"
     },
     "output_type": "display_data"
    }
   ],
   "source": [
    "plt.figure()\n",
    "plt.plot(fpr_lr, tpr_lr, color=\"darkorange\",\n",
    "    label=\"LogReg AUC = %0.2f\" % auc_lr)\n",
    "plt.plot(fpr_rf, tpr_rf, color=\"green\",\n",
    "    label=\"RF AUC = %0.2f\" % auc_rf)\n",
    "plt.plot(fpr_xg, tpr_xg, color=\"red\",\n",
    "    label=\"XGBoost AUC = %0.2f\" % auc_xg)\n",
    "plt.plot([0, 1], [0, 1], color=\"navy\", linestyle=\"--\")\n",
    "plt.xlim([0.0, 1.0])\n",
    "plt.ylim([0.0, 1.0])\n",
    "plt.xlabel(\"False Positive Rate\")\n",
    "plt.ylabel(\"True Positive Rate\")\n",
    "plt.legend(loc=\"lower right\")\n",
    "plt.show()"
   ]
  },
  {
   "cell_type": "code",
   "execution_count": null,
   "id": "5f0e7035",
   "metadata": {},
   "outputs": [],
   "source": []
  },
  {
   "cell_type": "markdown",
   "id": "50b3fa91",
   "metadata": {},
   "source": [
    "## Results / Conclusions"
   ]
  },
  {
   "cell_type": "code",
   "execution_count": null,
   "id": "9551266d",
   "metadata": {},
   "outputs": [],
   "source": [
    "# put results on a table, talk about the experience with the models"
   ]
  }
 ],
 "metadata": {
  "kernelspec": {
   "display_name": "Python 3 (ipykernel)",
   "language": "python",
   "name": "python3"
  },
  "language_info": {
   "codemirror_mode": {
    "name": "ipython",
    "version": 3
   },
   "file_extension": ".py",
   "mimetype": "text/x-python",
   "name": "python",
   "nbconvert_exporter": "python",
   "pygments_lexer": "ipython3",
   "version": "3.9.13"
  }
 },
 "nbformat": 4,
 "nbformat_minor": 5
}
